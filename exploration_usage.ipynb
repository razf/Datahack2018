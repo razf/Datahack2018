{
 "cells": [
  {
   "cell_type": "code",
   "execution_count": 1,
   "metadata": {
    "collapsed": true
   },
   "outputs": [],
   "source": [
    "import seaborn as sns\n",
    "import matplotlib.pyplot as plt\n",
    "import numpy as np\n",
    "import pandas as pd\n",
    "import scipy\n",
    "%matplotlib inline"
   ]
  },
  {
   "cell_type": "code",
   "execution_count": 2,
   "metadata": {
    "collapsed": true
   },
   "outputs": [],
   "source": [
    "path = './'\n",
    "teamname = 'team_foo'\n",
    "out_name = path + teamname + '_submission.csv'\n",
    "df_usage = pd.read_csv(path + \"train_usage_data.csv\")"
   ]
  },
  {
   "cell_type": "code",
   "execution_count": 4,
   "metadata": {},
   "outputs": [
    {
     "data": {
      "text/html": [
       "<div>\n",
       "<style>\n",
       "    .dataframe thead tr:only-child th {\n",
       "        text-align: right;\n",
       "    }\n",
       "\n",
       "    .dataframe thead th {\n",
       "        text-align: left;\n",
       "    }\n",
       "\n",
       "    .dataframe tbody tr th {\n",
       "        vertical-align: top;\n",
       "    }\n",
       "</style>\n",
       "<table border=\"1\" class=\"dataframe\">\n",
       "  <thead>\n",
       "    <tr style=\"text-align: right;\">\n",
       "      <th></th>\n",
       "      <th>id</th>\n",
       "      <th>feature_name</th>\n",
       "      <th>usage_duration</th>\n",
       "      <th>end_use_date</th>\n",
       "      <th>accepted</th>\n",
       "    </tr>\n",
       "  </thead>\n",
       "  <tbody>\n",
       "    <tr>\n",
       "      <th>0</th>\n",
       "      <td>30000429392689</td>\n",
       "      <td>Relight</td>\n",
       "      <td>5.659</td>\n",
       "      <td>2018-04-10 11:18:16</td>\n",
       "      <td>False</td>\n",
       "    </tr>\n",
       "    <tr>\n",
       "      <th>1</th>\n",
       "      <td>440000407817536</td>\n",
       "      <td>Crop</td>\n",
       "      <td>0.984</td>\n",
       "      <td>2018-04-06 16:44:19</td>\n",
       "      <td>False</td>\n",
       "    </tr>\n",
       "    <tr>\n",
       "      <th>2</th>\n",
       "      <td>540000265662400</td>\n",
       "      <td>Crop</td>\n",
       "      <td>1.583</td>\n",
       "      <td>2018-04-21 18:46:24</td>\n",
       "      <td>False</td>\n",
       "    </tr>\n",
       "    <tr>\n",
       "      <th>3</th>\n",
       "      <td>220000444951653</td>\n",
       "      <td>Vignette</td>\n",
       "      <td>4.668</td>\n",
       "      <td>2018-04-30 14:11:22</td>\n",
       "      <td>False</td>\n",
       "    </tr>\n",
       "    <tr>\n",
       "      <th>4</th>\n",
       "      <td>220000444725338</td>\n",
       "      <td>Retouch</td>\n",
       "      <td>185.154</td>\n",
       "      <td>2018-04-29 23:37:34</td>\n",
       "      <td>False</td>\n",
       "    </tr>\n",
       "  </tbody>\n",
       "</table>\n",
       "</div>"
      ],
      "text/plain": [
       "                id feature_name  usage_duration         end_use_date  accepted\n",
       "0   30000429392689      Relight           5.659  2018-04-10 11:18:16     False\n",
       "1  440000407817536         Crop           0.984  2018-04-06 16:44:19     False\n",
       "2  540000265662400         Crop           1.583  2018-04-21 18:46:24     False\n",
       "3  220000444951653     Vignette           4.668  2018-04-30 14:11:22     False\n",
       "4  220000444725338      Retouch         185.154  2018-04-29 23:37:34     False"
      ]
     },
     "execution_count": 4,
     "metadata": {},
     "output_type": "execute_result"
    }
   ],
   "source": [
    "df_usage.head()"
   ]
  },
  {
   "cell_type": "code",
   "execution_count": 5,
   "metadata": {},
   "outputs": [
    {
     "data": {
      "text/plain": [
       "id                False\n",
       "feature_name      False\n",
       "usage_duration    False\n",
       "end_use_date      False\n",
       "accepted          False\n",
       "dtype: bool"
      ]
     },
     "execution_count": 5,
     "metadata": {},
     "output_type": "execute_result"
    }
   ],
   "source": [
    "df_usage.isnull().any()"
   ]
  },
  {
   "cell_type": "code",
   "execution_count": 6,
   "metadata": {},
   "outputs": [
    {
     "data": {
      "text/html": [
       "<div>\n",
       "<style>\n",
       "    .dataframe thead tr:only-child th {\n",
       "        text-align: right;\n",
       "    }\n",
       "\n",
       "    .dataframe thead th {\n",
       "        text-align: left;\n",
       "    }\n",
       "\n",
       "    .dataframe tbody tr th {\n",
       "        vertical-align: top;\n",
       "    }\n",
       "</style>\n",
       "<table border=\"1\" class=\"dataframe\">\n",
       "  <thead>\n",
       "    <tr style=\"text-align: right;\">\n",
       "      <th></th>\n",
       "      <th>id</th>\n",
       "      <th>feature_name</th>\n",
       "      <th>usage_duration</th>\n",
       "      <th>end_use_date</th>\n",
       "      <th>accepted</th>\n",
       "      <th>installation_date</th>\n",
       "      <th>subscripiton_date</th>\n",
       "      <th>country</th>\n",
       "      <th>initial_app_version</th>\n",
       "      <th>initial_ios_version</th>\n",
       "      <th>initial_device</th>\n",
       "      <th>days_until_churn</th>\n",
       "      <th>churned</th>\n",
       "    </tr>\n",
       "  </thead>\n",
       "  <tbody>\n",
       "    <tr>\n",
       "      <th>0</th>\n",
       "      <td>30000429392689</td>\n",
       "      <td>Relight</td>\n",
       "      <td>5.659</td>\n",
       "      <td>2018-04-10 11:18:16</td>\n",
       "      <td>False</td>\n",
       "      <td>2018-02-26 07:01:08</td>\n",
       "      <td>2018-04-08 09:38:19</td>\n",
       "      <td>Australia</td>\n",
       "      <td>1.9.6</td>\n",
       "      <td>11.2.6</td>\n",
       "      <td>UIDeviceKindIPhoneX</td>\n",
       "      <td>NaN</td>\n",
       "      <td>0</td>\n",
       "    </tr>\n",
       "    <tr>\n",
       "      <th>1</th>\n",
       "      <td>440000407817536</td>\n",
       "      <td>Crop</td>\n",
       "      <td>0.984</td>\n",
       "      <td>2018-04-06 16:44:19</td>\n",
       "      <td>False</td>\n",
       "      <td>2017-07-21 20:04:15</td>\n",
       "      <td>2018-04-05 22:39:32</td>\n",
       "      <td>United Kingdom</td>\n",
       "      <td>1.9.6</td>\n",
       "      <td>11.2.5</td>\n",
       "      <td>UIDeviceKindIPhoneX</td>\n",
       "      <td>NaN</td>\n",
       "      <td>0</td>\n",
       "    </tr>\n",
       "    <tr>\n",
       "      <th>2</th>\n",
       "      <td>540000265662400</td>\n",
       "      <td>Crop</td>\n",
       "      <td>1.583</td>\n",
       "      <td>2018-04-21 18:46:24</td>\n",
       "      <td>False</td>\n",
       "      <td>2018-04-21 02:01:23</td>\n",
       "      <td>2018-04-21 02:14:14</td>\n",
       "      <td>United States</td>\n",
       "      <td>1.9.6</td>\n",
       "      <td>11.2</td>\n",
       "      <td>UIDeviceKindIPhone8</td>\n",
       "      <td>NaN</td>\n",
       "      <td>0</td>\n",
       "    </tr>\n",
       "    <tr>\n",
       "      <th>3</th>\n",
       "      <td>220000444951653</td>\n",
       "      <td>Vignette</td>\n",
       "      <td>4.668</td>\n",
       "      <td>2018-04-30 14:11:22</td>\n",
       "      <td>False</td>\n",
       "      <td>2018-04-30 12:45:44</td>\n",
       "      <td>2018-04-30 12:57:44</td>\n",
       "      <td>Australia</td>\n",
       "      <td>1.9.6</td>\n",
       "      <td>11.2.5</td>\n",
       "      <td>UIDeviceKindIPhone7Plus</td>\n",
       "      <td>NaN</td>\n",
       "      <td>0</td>\n",
       "    </tr>\n",
       "    <tr>\n",
       "      <th>4</th>\n",
       "      <td>220000444725338</td>\n",
       "      <td>Retouch</td>\n",
       "      <td>185.154</td>\n",
       "      <td>2018-04-29 23:37:34</td>\n",
       "      <td>False</td>\n",
       "      <td>2018-04-29 21:14:23</td>\n",
       "      <td>2018-04-29 22:07:56</td>\n",
       "      <td>United States</td>\n",
       "      <td>1.9.6</td>\n",
       "      <td>11.2.6</td>\n",
       "      <td>UIDeviceKindIPhone6Plus</td>\n",
       "      <td>31.0</td>\n",
       "      <td>0</td>\n",
       "    </tr>\n",
       "  </tbody>\n",
       "</table>\n",
       "</div>"
      ],
      "text/plain": [
       "                id feature_name  usage_duration         end_use_date  \\\n",
       "0   30000429392689      Relight           5.659  2018-04-10 11:18:16   \n",
       "1  440000407817536         Crop           0.984  2018-04-06 16:44:19   \n",
       "2  540000265662400         Crop           1.583  2018-04-21 18:46:24   \n",
       "3  220000444951653     Vignette           4.668  2018-04-30 14:11:22   \n",
       "4  220000444725338      Retouch         185.154  2018-04-29 23:37:34   \n",
       "\n",
       "   accepted   installation_date   subscripiton_date         country  \\\n",
       "0     False 2018-02-26 07:01:08 2018-04-08 09:38:19       Australia   \n",
       "1     False 2017-07-21 20:04:15 2018-04-05 22:39:32  United Kingdom   \n",
       "2     False 2018-04-21 02:01:23 2018-04-21 02:14:14   United States   \n",
       "3     False 2018-04-30 12:45:44 2018-04-30 12:57:44       Australia   \n",
       "4     False 2018-04-29 21:14:23 2018-04-29 22:07:56   United States   \n",
       "\n",
       "  initial_app_version initial_ios_version           initial_device  \\\n",
       "0               1.9.6              11.2.6      UIDeviceKindIPhoneX   \n",
       "1               1.9.6              11.2.5      UIDeviceKindIPhoneX   \n",
       "2               1.9.6                11.2      UIDeviceKindIPhone8   \n",
       "3               1.9.6              11.2.5  UIDeviceKindIPhone7Plus   \n",
       "4               1.9.6              11.2.6  UIDeviceKindIPhone6Plus   \n",
       "\n",
       "   days_until_churn  churned  \n",
       "0               NaN        0  \n",
       "1               NaN        0  \n",
       "2               NaN        0  \n",
       "3               NaN        0  \n",
       "4              31.0        0  "
      ]
     },
     "execution_count": 6,
     "metadata": {},
     "output_type": "execute_result"
    }
   ],
   "source": [
    "df_users = pd.read_csv(path + \"train_users_data.csv\",parse_dates = [ 'installation_date','subscripiton_date'], index_col=0)\n",
    "joined_df = df_usage.join(df_users.set_index('id'),on='id')\n",
    "joined_df.head()"
   ]
  },
  {
   "cell_type": "code",
   "execution_count": 7,
   "metadata": {},
   "outputs": [
    {
     "name": "stdout",
     "output_type": "stream",
     "text": [
      "churned\n",
      "0    56.191571\n",
      "1    58.626024\n",
      "Name: usage_duration, dtype: float64\n",
      "churned\n",
      "0    593.080063\n",
      "1    463.218981\n",
      "Name: usage_duration, dtype: float64\n"
     ]
    }
   ],
   "source": [
    "#usage duration by chruned\n",
    "print(joined_df.groupby('churned')['usage_duration'].mean())\n",
    "print(joined_df.groupby('churned')['usage_duration'].std())"
   ]
  },
  {
   "cell_type": "code",
   "execution_count": null,
   "metadata": {
    "collapsed": true
   },
   "outputs": [],
   "source": [
    "joined_df.groupby('feature_name')['usage_duration'].mean().plot.bar()\n",
    "plt.ylabel('usage_duration mean')"
   ]
  },
  {
   "cell_type": "code",
   "execution_count": null,
   "metadata": {
    "collapsed": true
   },
   "outputs": [],
   "source": [
    "joined_df.groupby('churned')['feature_name'].value_counts(normalize =True).unstack(0).plot.bar()\n",
    "plt.ylabel(\"normalized usage of features\")"
   ]
  },
  {
   "cell_type": "code",
   "execution_count": null,
   "metadata": {
    "collapsed": true
   },
   "outputs": [],
   "source": [
    "joined_df.groupby('churned')['usage_duration'].mean().plot.bar()"
   ]
  },
  {
   "cell_type": "code",
   "execution_count": null,
   "metadata": {
    "collapsed": true
   },
   "outputs": [],
   "source": [
    "joined_df.groupby(['churned','feature_name'])['usage_duration'].mean().unstack(0).plot.bar()\n",
    "plt.ylabel('mean usage_duration')"
   ]
  },
  {
   "cell_type": "code",
   "execution_count": null,
   "metadata": {
    "collapsed": true
   },
   "outputs": [],
   "source": [
    "ax = joined_df[joined_df['accepted'] == 0].groupby(['churned'])['feature_name'].value_counts(normalize=True).unstack(0).plot.bar(alpha=0.5,figsize=(15,5), color=['g','r'])\n",
    "joined_df[joined_df['accepted'] == 1].groupby(['churned'])['feature_name'].value_counts(normalize=True).unstack(0).plot.bar(ax=ax, alpha=0.5,figsize=(15,5))"
   ]
  },
  {
   "cell_type": "code",
   "execution_count": null,
   "metadata": {
    "collapsed": true,
    "scrolled": true
   },
   "outputs": [],
   "source": [
    "joined_df.groupby(['churned', 'accepted'])['feature_name'].value_counts(normalize=True).unstack([2]).plot.bar(figsize=(15,5))"
   ]
  },
  {
   "cell_type": "markdown",
   "metadata": {},
   "source": [
    "## Here is te code for clustering the sessions"
   ]
  },
  {
   "cell_type": "code",
   "execution_count": 8,
   "metadata": {
    "collapsed": true
   },
   "outputs": [],
   "source": [
    "import datetime\n",
    "joined_df['end_use_date'] = pd.to_datetime(joined_df['end_use_date'])\n",
    "joined_df['start_use_date'] = joined_df['end_use_date'] - joined_df['usage_duration'].apply(lambda x: datetime.timedelta(seconds=x))"
   ]
  },
  {
   "cell_type": "code",
   "execution_count": 59,
   "metadata": {
    "collapsed": true
   },
   "outputs": [],
   "source": [
    "def cluster(g):\n",
    "    soted_g = g.sort_values(by='end_use_date')\n",
    "    soted_g['delta'] = soted_g['start_use_date'].shift(-1) - soted_g['end_use_date']\n",
    "    soted_g['delta'] = soted_g['delta'].apply(lambda x: x.total_seconds())\n",
    "    soted_g['delta'] = soted_g['delta'].fillna(0)\n",
    "    soted_g['class'] = 0\n",
    "    soted_g.loc[soted_g['delta'] > 1000,'class'] = 1\n",
    "    soted_g['class'] = soted_g['class'].cumsum()\n",
    "    return pd.DataFrame(soted_g.index, soted_g['class'])\n",
    "clustered_group = joined_df.groupby(['id']).apply(cluster)\n",
    "clustered_group = clustered_group.reset_index()"
   ]
  },
  {
   "cell_type": "code",
   "execution_count": 64,
   "metadata": {
    "collapsed": true
   },
   "outputs": [],
   "source": [
    "clustered_group = clustered_group.set_index(0)"
   ]
  },
  {
   "cell_type": "code",
   "execution_count": 66,
   "metadata": {},
   "outputs": [],
   "source": [
    "joined_df_with_cluster = clustered_group.merge(joined_df, left_index=True, right_index=True, how='inner')"
   ]
  },
  {
   "cell_type": "code",
   "execution_count": 85,
   "metadata": {},
   "outputs": [],
   "source": [
    "num_of_sessions = joined_df_with_cluster.groupby('id_x')['class'].max()\n",
    "num_of_sessions = pd.DataFrame(num_of_sessions)\n",
    "num_of_sessions.reset_index(level=0, inplace=True)"
   ]
  },
  {
   "cell_type": "code",
   "execution_count": 87,
   "metadata": {},
   "outputs": [],
   "source": [
    "num_of_sessions = num_of_sessions.rename(index=str, columns={'id_x': 'id', 'class': 'session_id'})\n",
    "num_of_sessions.to_csv('number_sessions.csv')"
   ]
  },
  {
   "cell_type": "code",
   "execution_count": null,
   "metadata": {
    "collapsed": true
   },
   "outputs": [],
   "source": []
  }
 ],
 "metadata": {
  "kernelspec": {
   "display_name": "Python 3",
   "language": "python",
   "name": "python3"
  },
  "language_info": {
   "codemirror_mode": {
    "name": "ipython",
    "version": 3
   },
   "file_extension": ".py",
   "mimetype": "text/x-python",
   "name": "python",
   "nbconvert_exporter": "python",
   "pygments_lexer": "ipython3",
   "version": "3.6.5"
  }
 },
 "nbformat": 4,
 "nbformat_minor": 2
}
